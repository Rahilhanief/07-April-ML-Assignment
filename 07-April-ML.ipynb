{
 "cells": [
  {
   "cell_type": "code",
   "execution_count": 2,
   "id": "b128ead6-13b2-4d71-a0db-05d2ca96f25d",
   "metadata": {},
   "outputs": [
    {
     "data": {
      "text/plain": [
       "'\\nA polynomial kernel is a kind of SVM kernel that uses a polynomial function to map the data into\\na higher-dimensional space. \\nIt does this by taking the dot product of the data points in the original space and the polynomial function \\nin the new space.\\n\\nThe function of kernel is to take data as input and transform it into the required form.\\nDifferent SVM algorithms use different types of kernel functions. These functions can be different types.\\nFor example linear, nonlinear, polynomial, radial basis function (RBF), and sigmoid.\\n'"
      ]
     },
     "execution_count": 2,
     "metadata": {},
     "output_type": "execute_result"
    }
   ],
   "source": [
    "## Q No. 1 :\n",
    "\"\"\"\n",
    "A polynomial kernel is a kind of SVM kernel that uses a polynomial function to map the data into\n",
    "a higher-dimensional space. \n",
    "It does this by taking the dot product of the data points in the original space and the polynomial function \n",
    "in the new space.\n",
    "\n",
    "The function of kernel is to take data as input and transform it into the required form.\n",
    "Different SVM algorithms use different types of kernel functions. These functions can be different types.\n",
    "For example linear, nonlinear, polynomial, radial basis function (RBF), and sigmoid.\n",
    "\"\"\""
   ]
  },
  {
   "cell_type": "code",
   "execution_count": 3,
   "id": "3430299d-8b2b-49b9-bceb-9e347a8a27a9",
   "metadata": {},
   "outputs": [
    {
     "data": {
      "text/plain": [
       "'\\nImplementing SVM with Scikit-Learn\\nImporting libraries. \\nData Preprocessing. \\nTraining the Algorithm. \\nEvaluating the Algorithm. \\nImporting Libraries. \\nTrain Test Split. \\nPolynomial Kernel. \\nEvaluating the Algorithm.\\n'"
      ]
     },
     "execution_count": 3,
     "metadata": {},
     "output_type": "execute_result"
    }
   ],
   "source": [
    "## Q No. 2 :\n",
    "\"\"\"\n",
    "Implementing SVM with Scikit-Learn\n",
    "Importing libraries. \n",
    "Data Preprocessing. \n",
    "Training the Algorithm. \n",
    "Evaluating the Algorithm. \n",
    "Importing Libraries. \n",
    "Train Test Split. \n",
    "Polynomial Kernel. \n",
    "Evaluating the Algorithm.\n",
    "\"\"\""
   ]
  },
  {
   "cell_type": "code",
   "execution_count": 4,
   "id": "39c2d4cf-0380-45bd-ae4a-61a73ed03b94",
   "metadata": {},
   "outputs": [
    {
     "data": {
      "text/plain": [
       "'\\nThe value of ε can affect the number of support vectors used to construct the regression function.\\nThe bigger ε, the fewer support vectors are selected. \\nOn the other hand, bigger ε-values results in more flat estimates.\\n'"
      ]
     },
     "execution_count": 4,
     "metadata": {},
     "output_type": "execute_result"
    }
   ],
   "source": [
    "## Q No. 3 :\n",
    "\"\"\"\n",
    "The value of ε can affect the number of support vectors used to construct the regression function.\n",
    "The bigger ε, the fewer support vectors are selected. \n",
    "On the other hand, bigger ε-values results in more flat estimates.\n",
    "\"\"\""
   ]
  },
  {
   "cell_type": "code",
   "execution_count": 5,
   "id": "59b6442c-9ae5-4a3b-ad2b-e09d07eab2b8",
   "metadata": {},
   "outputs": [
    {
     "data": {
      "text/plain": [
       "\"kernel :‘linear’, ‘poly’, ‘rbf’, ‘sigmoid’, ‘precomputed’ or callable, default=’rbf’\\nSpecifies the kernel type to be used in the algorithm.\\nIf none is given, ‘rbf’ will be used. If a callable is given it is used to precompute the kernel matrix.\\n\\ngamma{‘scale’, ‘auto’} or float, default=’scale’\\nKernel coefficient for ‘rbf’, ‘poly’ and ‘sigmoid’.\\nif gamma='scale' (default) is passed then it uses 1 / (n_features * X.var()) as value of gamma,\\nif ‘auto’, uses 1 / n_features\\nif float, must be non-negative.\\nC : float, default=1.0\\nRegularization parameter. The strength of the regularization is inversely proportional to C. Must be strictly positive.\\nThe penalty is a squared l2 penalty.\\n\\nepsilonfloat, default=0.1\\nEpsilon in the epsilon-SVR model. It specifies the epsilon-tube within which no penalty is associated in the training\\nloss function with points predicted within a distance epsilon from the actual value. Must be non-negative.\""
      ]
     },
     "execution_count": 5,
     "metadata": {},
     "output_type": "execute_result"
    }
   ],
   "source": [
    "## Q No. 4 :\n",
    "\"\"\"kernel :‘linear’, ‘poly’, ‘rbf’, ‘sigmoid’, ‘precomputed’ or callable, default=’rbf’\n",
    "Specifies the kernel type to be used in the algorithm.\n",
    "If none is given, ‘rbf’ will be used. If a callable is given it is used to precompute the kernel matrix.\n",
    "\n",
    "gamma{‘scale’, ‘auto’} or float, default=’scale’\n",
    "Kernel coefficient for ‘rbf’, ‘poly’ and ‘sigmoid’.\n",
    "if gamma='scale' (default) is passed then it uses 1 / (n_features * X.var()) as value of gamma,\n",
    "if ‘auto’, uses 1 / n_features\n",
    "if float, must be non-negative.\n",
    "C : float, default=1.0\n",
    "Regularization parameter. The strength of the regularization is inversely proportional to C. Must be strictly positive.\n",
    "The penalty is a squared l2 penalty.\n",
    "\n",
    "epsilonfloat, default=0.1\n",
    "Epsilon in the epsilon-SVR model. It specifies the epsilon-tube within which no penalty is associated in the training\n",
    "loss function with points predicted within a distance epsilon from the actual value. Must be non-negative.\"\"\""
   ]
  },
  {
   "cell_type": "code",
   "execution_count": 6,
   "id": "88d5f2f8-e7d2-4900-afe2-ec25803725f4",
   "metadata": {},
   "outputs": [],
   "source": [
    "## Q No. 5 :\n",
    "import pandas as pd\n",
    "import numpy as np\n",
    "import seaborn as sns\n",
    "import matplotlib.pyplot as plt"
   ]
  },
  {
   "cell_type": "code",
   "execution_count": 7,
   "id": "e8457ea6-0534-4da2-b902-43391d827909",
   "metadata": {},
   "outputs": [],
   "source": [
    "from sklearn.datasets import load_diabetes"
   ]
  },
  {
   "cell_type": "code",
   "execution_count": 8,
   "id": "a7e99262-6276-46d2-803a-9e59df345163",
   "metadata": {},
   "outputs": [],
   "source": [
    "dataset=load_diabetes()"
   ]
  },
  {
   "cell_type": "code",
   "execution_count": 12,
   "id": "1944f092-60ed-4a9a-b184-c455ad0b19fa",
   "metadata": {},
   "outputs": [
    {
     "name": "stdout",
     "output_type": "stream",
     "text": [
      ".. _diabetes_dataset:\n",
      "\n",
      "Diabetes dataset\n",
      "----------------\n",
      "\n",
      "Ten baseline variables, age, sex, body mass index, average blood\n",
      "pressure, and six blood serum measurements were obtained for each of n =\n",
      "442 diabetes patients, as well as the response of interest, a\n",
      "quantitative measure of disease progression one year after baseline.\n",
      "\n",
      "**Data Set Characteristics:**\n",
      "\n",
      "  :Number of Instances: 442\n",
      "\n",
      "  :Number of Attributes: First 10 columns are numeric predictive values\n",
      "\n",
      "  :Target: Column 11 is a quantitative measure of disease progression one year after baseline\n",
      "\n",
      "  :Attribute Information:\n",
      "      - age     age in years\n",
      "      - sex\n",
      "      - bmi     body mass index\n",
      "      - bp      average blood pressure\n",
      "      - s1      tc, total serum cholesterol\n",
      "      - s2      ldl, low-density lipoproteins\n",
      "      - s3      hdl, high-density lipoproteins\n",
      "      - s4      tch, total cholesterol / HDL\n",
      "      - s5      ltg, possibly log of serum triglycerides level\n",
      "      - s6      glu, blood sugar level\n",
      "\n",
      "Note: Each of these 10 feature variables have been mean centered and scaled by the standard deviation times the square root of `n_samples` (i.e. the sum of squares of each column totals 1).\n",
      "\n",
      "Source URL:\n",
      "https://www4.stat.ncsu.edu/~boos/var.select/diabetes.html\n",
      "\n",
      "For more information see:\n",
      "Bradley Efron, Trevor Hastie, Iain Johnstone and Robert Tibshirani (2004) \"Least Angle Regression,\" Annals of Statistics (with discussion), 407-499.\n",
      "(https://web.stanford.edu/~hastie/Papers/LARS/LeastAngle_2002.pdf)\n",
      "\n"
     ]
    }
   ],
   "source": [
    "print(dataset.DESCR)"
   ]
  },
  {
   "cell_type": "code",
   "execution_count": 14,
   "id": "33ec9fc0-49b8-4d7e-a916-3dfe71134de2",
   "metadata": {},
   "outputs": [],
   "source": [
    "df=pd.DataFrame(dataset.data,columns=dataset.feature_names)"
   ]
  },
  {
   "cell_type": "code",
   "execution_count": 15,
   "id": "757608f0-1940-4e03-aeaa-0f2fef2e85c5",
   "metadata": {},
   "outputs": [
    {
     "data": {
      "text/html": [
       "<div>\n",
       "<style scoped>\n",
       "    .dataframe tbody tr th:only-of-type {\n",
       "        vertical-align: middle;\n",
       "    }\n",
       "\n",
       "    .dataframe tbody tr th {\n",
       "        vertical-align: top;\n",
       "    }\n",
       "\n",
       "    .dataframe thead th {\n",
       "        text-align: right;\n",
       "    }\n",
       "</style>\n",
       "<table border=\"1\" class=\"dataframe\">\n",
       "  <thead>\n",
       "    <tr style=\"text-align: right;\">\n",
       "      <th></th>\n",
       "      <th>age</th>\n",
       "      <th>sex</th>\n",
       "      <th>bmi</th>\n",
       "      <th>bp</th>\n",
       "      <th>s1</th>\n",
       "      <th>s2</th>\n",
       "      <th>s3</th>\n",
       "      <th>s4</th>\n",
       "      <th>s5</th>\n",
       "      <th>s6</th>\n",
       "    </tr>\n",
       "  </thead>\n",
       "  <tbody>\n",
       "    <tr>\n",
       "      <th>0</th>\n",
       "      <td>0.038076</td>\n",
       "      <td>0.050680</td>\n",
       "      <td>0.061696</td>\n",
       "      <td>0.021872</td>\n",
       "      <td>-0.044223</td>\n",
       "      <td>-0.034821</td>\n",
       "      <td>-0.043401</td>\n",
       "      <td>-0.002592</td>\n",
       "      <td>0.019907</td>\n",
       "      <td>-0.017646</td>\n",
       "    </tr>\n",
       "    <tr>\n",
       "      <th>1</th>\n",
       "      <td>-0.001882</td>\n",
       "      <td>-0.044642</td>\n",
       "      <td>-0.051474</td>\n",
       "      <td>-0.026328</td>\n",
       "      <td>-0.008449</td>\n",
       "      <td>-0.019163</td>\n",
       "      <td>0.074412</td>\n",
       "      <td>-0.039493</td>\n",
       "      <td>-0.068332</td>\n",
       "      <td>-0.092204</td>\n",
       "    </tr>\n",
       "    <tr>\n",
       "      <th>2</th>\n",
       "      <td>0.085299</td>\n",
       "      <td>0.050680</td>\n",
       "      <td>0.044451</td>\n",
       "      <td>-0.005670</td>\n",
       "      <td>-0.045599</td>\n",
       "      <td>-0.034194</td>\n",
       "      <td>-0.032356</td>\n",
       "      <td>-0.002592</td>\n",
       "      <td>0.002861</td>\n",
       "      <td>-0.025930</td>\n",
       "    </tr>\n",
       "    <tr>\n",
       "      <th>3</th>\n",
       "      <td>-0.089063</td>\n",
       "      <td>-0.044642</td>\n",
       "      <td>-0.011595</td>\n",
       "      <td>-0.036656</td>\n",
       "      <td>0.012191</td>\n",
       "      <td>0.024991</td>\n",
       "      <td>-0.036038</td>\n",
       "      <td>0.034309</td>\n",
       "      <td>0.022688</td>\n",
       "      <td>-0.009362</td>\n",
       "    </tr>\n",
       "    <tr>\n",
       "      <th>4</th>\n",
       "      <td>0.005383</td>\n",
       "      <td>-0.044642</td>\n",
       "      <td>-0.036385</td>\n",
       "      <td>0.021872</td>\n",
       "      <td>0.003935</td>\n",
       "      <td>0.015596</td>\n",
       "      <td>0.008142</td>\n",
       "      <td>-0.002592</td>\n",
       "      <td>-0.031988</td>\n",
       "      <td>-0.046641</td>\n",
       "    </tr>\n",
       "  </tbody>\n",
       "</table>\n",
       "</div>"
      ],
      "text/plain": [
       "        age       sex       bmi        bp        s1        s2        s3  \\\n",
       "0  0.038076  0.050680  0.061696  0.021872 -0.044223 -0.034821 -0.043401   \n",
       "1 -0.001882 -0.044642 -0.051474 -0.026328 -0.008449 -0.019163  0.074412   \n",
       "2  0.085299  0.050680  0.044451 -0.005670 -0.045599 -0.034194 -0.032356   \n",
       "3 -0.089063 -0.044642 -0.011595 -0.036656  0.012191  0.024991 -0.036038   \n",
       "4  0.005383 -0.044642 -0.036385  0.021872  0.003935  0.015596  0.008142   \n",
       "\n",
       "         s4        s5        s6  \n",
       "0 -0.002592  0.019907 -0.017646  \n",
       "1 -0.039493 -0.068332 -0.092204  \n",
       "2 -0.002592  0.002861 -0.025930  \n",
       "3  0.034309  0.022688 -0.009362  \n",
       "4 -0.002592 -0.031988 -0.046641  "
      ]
     },
     "execution_count": 15,
     "metadata": {},
     "output_type": "execute_result"
    }
   ],
   "source": [
    "df.head()"
   ]
  },
  {
   "cell_type": "code",
   "execution_count": 16,
   "id": "b80305c3-1d25-41b8-b965-99e9dd211a3a",
   "metadata": {},
   "outputs": [],
   "source": [
    "df['target']= dataset.target"
   ]
  },
  {
   "cell_type": "code",
   "execution_count": 17,
   "id": "72439022-a7ac-49ae-8624-7a4e95ef7e09",
   "metadata": {},
   "outputs": [
    {
     "data": {
      "text/html": [
       "<div>\n",
       "<style scoped>\n",
       "    .dataframe tbody tr th:only-of-type {\n",
       "        vertical-align: middle;\n",
       "    }\n",
       "\n",
       "    .dataframe tbody tr th {\n",
       "        vertical-align: top;\n",
       "    }\n",
       "\n",
       "    .dataframe thead th {\n",
       "        text-align: right;\n",
       "    }\n",
       "</style>\n",
       "<table border=\"1\" class=\"dataframe\">\n",
       "  <thead>\n",
       "    <tr style=\"text-align: right;\">\n",
       "      <th></th>\n",
       "      <th>age</th>\n",
       "      <th>sex</th>\n",
       "      <th>bmi</th>\n",
       "      <th>bp</th>\n",
       "      <th>s1</th>\n",
       "      <th>s2</th>\n",
       "      <th>s3</th>\n",
       "      <th>s4</th>\n",
       "      <th>s5</th>\n",
       "      <th>s6</th>\n",
       "      <th>target</th>\n",
       "    </tr>\n",
       "  </thead>\n",
       "  <tbody>\n",
       "    <tr>\n",
       "      <th>0</th>\n",
       "      <td>0.038076</td>\n",
       "      <td>0.050680</td>\n",
       "      <td>0.061696</td>\n",
       "      <td>0.021872</td>\n",
       "      <td>-0.044223</td>\n",
       "      <td>-0.034821</td>\n",
       "      <td>-0.043401</td>\n",
       "      <td>-0.002592</td>\n",
       "      <td>0.019907</td>\n",
       "      <td>-0.017646</td>\n",
       "      <td>151.0</td>\n",
       "    </tr>\n",
       "    <tr>\n",
       "      <th>1</th>\n",
       "      <td>-0.001882</td>\n",
       "      <td>-0.044642</td>\n",
       "      <td>-0.051474</td>\n",
       "      <td>-0.026328</td>\n",
       "      <td>-0.008449</td>\n",
       "      <td>-0.019163</td>\n",
       "      <td>0.074412</td>\n",
       "      <td>-0.039493</td>\n",
       "      <td>-0.068332</td>\n",
       "      <td>-0.092204</td>\n",
       "      <td>75.0</td>\n",
       "    </tr>\n",
       "    <tr>\n",
       "      <th>2</th>\n",
       "      <td>0.085299</td>\n",
       "      <td>0.050680</td>\n",
       "      <td>0.044451</td>\n",
       "      <td>-0.005670</td>\n",
       "      <td>-0.045599</td>\n",
       "      <td>-0.034194</td>\n",
       "      <td>-0.032356</td>\n",
       "      <td>-0.002592</td>\n",
       "      <td>0.002861</td>\n",
       "      <td>-0.025930</td>\n",
       "      <td>141.0</td>\n",
       "    </tr>\n",
       "    <tr>\n",
       "      <th>3</th>\n",
       "      <td>-0.089063</td>\n",
       "      <td>-0.044642</td>\n",
       "      <td>-0.011595</td>\n",
       "      <td>-0.036656</td>\n",
       "      <td>0.012191</td>\n",
       "      <td>0.024991</td>\n",
       "      <td>-0.036038</td>\n",
       "      <td>0.034309</td>\n",
       "      <td>0.022688</td>\n",
       "      <td>-0.009362</td>\n",
       "      <td>206.0</td>\n",
       "    </tr>\n",
       "    <tr>\n",
       "      <th>4</th>\n",
       "      <td>0.005383</td>\n",
       "      <td>-0.044642</td>\n",
       "      <td>-0.036385</td>\n",
       "      <td>0.021872</td>\n",
       "      <td>0.003935</td>\n",
       "      <td>0.015596</td>\n",
       "      <td>0.008142</td>\n",
       "      <td>-0.002592</td>\n",
       "      <td>-0.031988</td>\n",
       "      <td>-0.046641</td>\n",
       "      <td>135.0</td>\n",
       "    </tr>\n",
       "  </tbody>\n",
       "</table>\n",
       "</div>"
      ],
      "text/plain": [
       "        age       sex       bmi        bp        s1        s2        s3  \\\n",
       "0  0.038076  0.050680  0.061696  0.021872 -0.044223 -0.034821 -0.043401   \n",
       "1 -0.001882 -0.044642 -0.051474 -0.026328 -0.008449 -0.019163  0.074412   \n",
       "2  0.085299  0.050680  0.044451 -0.005670 -0.045599 -0.034194 -0.032356   \n",
       "3 -0.089063 -0.044642 -0.011595 -0.036656  0.012191  0.024991 -0.036038   \n",
       "4  0.005383 -0.044642 -0.036385  0.021872  0.003935  0.015596  0.008142   \n",
       "\n",
       "         s4        s5        s6  target  \n",
       "0 -0.002592  0.019907 -0.017646   151.0  \n",
       "1 -0.039493 -0.068332 -0.092204    75.0  \n",
       "2 -0.002592  0.002861 -0.025930   141.0  \n",
       "3  0.034309  0.022688 -0.009362   206.0  \n",
       "4 -0.002592 -0.031988 -0.046641   135.0  "
      ]
     },
     "execution_count": 17,
     "metadata": {},
     "output_type": "execute_result"
    }
   ],
   "source": [
    "df.head()"
   ]
  },
  {
   "cell_type": "code",
   "execution_count": 18,
   "id": "914aac55-8d8b-4ffa-8e32-d1dfdf280d45",
   "metadata": {},
   "outputs": [],
   "source": [
    "X=df.iloc[:,:-1]\n",
    "y=df.iloc[:,-1]"
   ]
  },
  {
   "cell_type": "code",
   "execution_count": 19,
   "id": "16212aae-b226-41e0-8f05-c936439f8c25",
   "metadata": {},
   "outputs": [
    {
     "data": {
      "text/plain": [
       "(          age       sex       bmi        bp        s1        s2        s3  \\\n",
       " 0    0.038076  0.050680  0.061696  0.021872 -0.044223 -0.034821 -0.043401   \n",
       " 1   -0.001882 -0.044642 -0.051474 -0.026328 -0.008449 -0.019163  0.074412   \n",
       " 2    0.085299  0.050680  0.044451 -0.005670 -0.045599 -0.034194 -0.032356   \n",
       " 3   -0.089063 -0.044642 -0.011595 -0.036656  0.012191  0.024991 -0.036038   \n",
       " 4    0.005383 -0.044642 -0.036385  0.021872  0.003935  0.015596  0.008142   \n",
       " ..        ...       ...       ...       ...       ...       ...       ...   \n",
       " 437  0.041708  0.050680  0.019662  0.059744 -0.005697 -0.002566 -0.028674   \n",
       " 438 -0.005515  0.050680 -0.015906 -0.067642  0.049341  0.079165 -0.028674   \n",
       " 439  0.041708  0.050680 -0.015906  0.017293 -0.037344 -0.013840 -0.024993   \n",
       " 440 -0.045472 -0.044642  0.039062  0.001215  0.016318  0.015283 -0.028674   \n",
       " 441 -0.045472 -0.044642 -0.073030 -0.081413  0.083740  0.027809  0.173816   \n",
       " \n",
       "            s4        s5        s6  \n",
       " 0   -0.002592  0.019907 -0.017646  \n",
       " 1   -0.039493 -0.068332 -0.092204  \n",
       " 2   -0.002592  0.002861 -0.025930  \n",
       " 3    0.034309  0.022688 -0.009362  \n",
       " 4   -0.002592 -0.031988 -0.046641  \n",
       " ..        ...       ...       ...  \n",
       " 437 -0.002592  0.031193  0.007207  \n",
       " 438  0.034309 -0.018114  0.044485  \n",
       " 439 -0.011080 -0.046883  0.015491  \n",
       " 440  0.026560  0.044529 -0.025930  \n",
       " 441 -0.039493 -0.004222  0.003064  \n",
       " \n",
       " [442 rows x 10 columns],\n",
       " 0      151.0\n",
       " 1       75.0\n",
       " 2      141.0\n",
       " 3      206.0\n",
       " 4      135.0\n",
       "        ...  \n",
       " 437    178.0\n",
       " 438    104.0\n",
       " 439    132.0\n",
       " 440    220.0\n",
       " 441     57.0\n",
       " Name: target, Length: 442, dtype: float64)"
      ]
     },
     "execution_count": 19,
     "metadata": {},
     "output_type": "execute_result"
    }
   ],
   "source": [
    "X,y"
   ]
  },
  {
   "cell_type": "code",
   "execution_count": 21,
   "id": "83ce6bd4-0fad-41c7-899a-8b940d92ec0c",
   "metadata": {},
   "outputs": [],
   "source": [
    "from sklearn.model_selection import train_test_split\n",
    "X_train, X_test, y_train, y_test = train_test_split(X, y, test_size=0.33, random_state=42)"
   ]
  },
  {
   "cell_type": "code",
   "execution_count": 22,
   "id": "6c38dc08-ee39-4774-a2e9-8023b124961e",
   "metadata": {},
   "outputs": [],
   "source": [
    "from sklearn.preprocessing import StandardScaler"
   ]
  },
  {
   "cell_type": "code",
   "execution_count": 23,
   "id": "43e7e8e5-8a7c-48c2-b3f6-d82b3a2e0976",
   "metadata": {},
   "outputs": [],
   "source": [
    "scaler=StandardScaler()"
   ]
  },
  {
   "cell_type": "code",
   "execution_count": 26,
   "id": "b3078bf4-bce1-4566-ac12-1ee4367fe3e4",
   "metadata": {},
   "outputs": [
    {
     "data": {
      "text/plain": [
       "array([[ 0.16943973, -0.94093056, -0.68905853, ..., -0.0581271 ,\n",
       "         0.1774922 ,  0.20325138],\n",
       "       [-0.06676511, -0.94093056,  1.10166659, ...,  1.77621029,\n",
       "         1.75104689,  1.00069124],\n",
       "       [ 0.16943973,  1.06277768, -0.14504077, ...,  1.48983694,\n",
       "         0.80871046,  0.38046023],\n",
       "       ...,\n",
       "       [ 0.64184942, -0.94093056, -0.46238446, ..., -0.83210911,\n",
       "        -0.248862  , -0.06256191],\n",
       "       [-0.30296995, -0.94093056, -0.53038668, ..., -0.0581271 ,\n",
       "        -0.82657099, -0.86000177],\n",
       "       [-2.03513879, -0.94093056,  0.55764883, ..., -0.83210911,\n",
       "        -0.12808394, -0.06256191]])"
      ]
     },
     "execution_count": 26,
     "metadata": {},
     "output_type": "execute_result"
    }
   ],
   "source": [
    "scaler.fit_transform(X_train,y_train)"
   ]
  },
  {
   "cell_type": "code",
   "execution_count": 29,
   "id": "5b7a50dc-1320-49c4-89f3-178e76984565",
   "metadata": {},
   "outputs": [
    {
     "name": "stderr",
     "output_type": "stream",
     "text": [
      "/tmp/ipykernel_308/2375002460.py:1: UserWarning: \n",
      "\n",
      "`distplot` is a deprecated function and will be removed in seaborn v0.14.0.\n",
      "\n",
      "Please adapt your code to use either `displot` (a figure-level function with\n",
      "similar flexibility) or `histplot` (an axes-level function for histograms).\n",
      "\n",
      "For a guide to updating your code to use the new functions, please see\n",
      "https://gist.github.com/mwaskom/de44147ed2974457ad6372750bbe5751\n",
      "\n",
      "  sns.distplot(scaler.fit_transform(X_train,y_train))\n"
     ]
    },
    {
     "data": {
      "text/plain": [
       "<AxesSubplot: ylabel='Density'>"
      ]
     },
     "execution_count": 29,
     "metadata": {},
     "output_type": "execute_result"
    },
    {
     "data": {
      "image/png": "[encoded data removed]",
      "text/plain": [
       "<Figure size 640x480 with 1 Axes>"
      ]
     },
     "metadata": {},
     "output_type": "display_data"
    }
   ],
   "source": [
    "sns.distplot(scaler.fit_transform(X_train,y_train))"
   ]
  },
  {
   "cell_type": "code",
   "execution_count": 30,
   "id": "a53ea956-dd0b-4e86-bd21-b577a7500cef",
   "metadata": {},
   "outputs": [],
   "source": [
    "from sklearn.svm import SVC"
   ]
  },
  {
   "cell_type": "code",
   "execution_count": 31,
   "id": "30db0a2d-26d9-414c-9be6-fd245d2af4fa",
   "metadata": {},
   "outputs": [],
   "source": [
    "svc=SVC(kernel=\"linear\")"
   ]
  },
  {
   "cell_type": "code",
   "execution_count": 32,
   "id": "7af71ecc-ea7c-4edb-b97f-b9276e2b9602",
   "metadata": {},
   "outputs": [
    {
     "data": {
      "text/html": [
       "<style>#sk-container-id-1 {color: black;background-color: white;}#sk-container-id-1 pre{padding: 0;}#sk-container-id-1 div.sk-toggleable {background-color: white;}#sk-container-id-1 label.sk-toggleable__label {cursor: pointer;display: block;width: 100%;margin-bottom: 0;padding: 0.3em;box-sizing: border-box;text-align: center;}#sk-container-id-1 label.sk-toggleable__label-arrow:before {content: \"▸\";float: left;margin-right: 0.25em;color: #696969;}#sk-container-id-1 label.sk-toggleable__label-arrow:hover:before {color: black;}#sk-container-id-1 div.sk-estimator:hover label.sk-toggleable__label-arrow:before {color: black;}#sk-container-id-1 div.sk-toggleable__content {max-height: 0;max-width: 0;overflow: hidden;text-align: left;background-color: #f0f8ff;}#sk-container-id-1 div.sk-toggleable__content pre {margin: 0.2em;color: black;border-radius: 0.25em;background-color: #f0f8ff;}#sk-container-id-1 input.sk-toggleable__control:checked~div.sk-toggleable__content {max-height: 200px;max-width: 100%;overflow: auto;}#sk-container-id-1 input.sk-toggleable__control:checked~label.sk-toggleable__label-arrow:before {content: \"▾\";}#sk-container-id-1 div.sk-estimator input.sk-toggleable__control:checked~label.sk-toggleable__label {background-color: #d4ebff;}#sk-container-id-1 div.sk-label input.sk-toggleable__control:checked~label.sk-toggleable__label {background-color: #d4ebff;}#sk-container-id-1 input.sk-hidden--visually {border: 0;clip: rect(1px 1px 1px 1px);clip: rect(1px, 1px, 1px, 1px);height: 1px;margin: -1px;overflow: hidden;padding: 0;position: absolute;width: 1px;}#sk-container-id-1 div.sk-estimator {font-family: monospace;background-color: #f0f8ff;border: 1px dotted black;border-radius: 0.25em;box-sizing: border-box;margin-bottom: 0.5em;}#sk-container-id-1 div.sk-estimator:hover {background-color: #d4ebff;}#sk-container-id-1 div.sk-parallel-item::after {content: \"\";width: 100%;border-bottom: 1px solid gray;flex-grow: 1;}#sk-container-id-1 div.sk-label:hover label.sk-toggleable__label {background-color: #d4ebff;}#sk-container-id-1 div.sk-serial::before {content: \"\";position: absolute;border-left: 1px solid gray;box-sizing: border-box;top: 0;bottom: 0;left: 50%;z-index: 0;}#sk-container-id-1 div.sk-serial {display: flex;flex-direction: column;align-items: center;background-color: white;padding-right: 0.2em;padding-left: 0.2em;position: relative;}#sk-container-id-1 div.sk-item {position: relative;z-index: 1;}#sk-container-id-1 div.sk-parallel {display: flex;align-items: stretch;justify-content: center;background-color: white;position: relative;}#sk-container-id-1 div.sk-item::before, #sk-container-id-1 div.sk-parallel-item::before {content: \"\";position: absolute;border-left: 1px solid gray;box-sizing: border-box;top: 0;bottom: 0;left: 50%;z-index: -1;}#sk-container-id-1 div.sk-parallel-item {display: flex;flex-direction: column;z-index: 1;position: relative;background-color: white;}#sk-container-id-1 div.sk-parallel-item:first-child::after {align-self: flex-end;width: 50%;}#sk-container-id-1 div.sk-parallel-item:last-child::after {align-self: flex-start;width: 50%;}#sk-container-id-1 div.sk-parallel-item:only-child::after {width: 0;}#sk-container-id-1 div.sk-dashed-wrapped {border: 1px dashed gray;margin: 0 0.4em 0.5em 0.4em;box-sizing: border-box;padding-bottom: 0.4em;background-color: white;}#sk-container-id-1 div.sk-label label {font-family: monospace;font-weight: bold;display: inline-block;line-height: 1.2em;}#sk-container-id-1 div.sk-label-container {text-align: center;}#sk-container-id-1 div.sk-container {/* jupyter's `normalize.less` sets `[hidden] { display: none; }` but bootstrap.min.css set `[hidden] { display: none !important; }` so we also need the `!important` here to be able to override the default hidden behavior on the sphinx rendered scikit-learn.org. See: https://github.com/scikit-learn/scikit-learn/issues/21755 */display: inline-block !important;position: relative;}#sk-container-id-1 div.sk-text-repr-fallback {display: none;}</style><div id=\"sk-container-id-1\" class=\"sk-top-container\"><div class=\"sk-text-repr-fallback\"><pre>SVC(kernel=&#x27;linear&#x27;)</pre><b>In a Jupyter environment, please rerun this cell to show the HTML representation or trust the notebook. <br />On GitHub, the HTML representation is unable to render, please try loading this page with nbviewer.org.</b></div><div class=\"sk-container\" hidden><div class=\"sk-item\"><div class=\"sk-estimator sk-toggleable\"><input class=\"sk-toggleable__control sk-hidden--visually\" id=\"sk-estimator-id-1\" type=\"checkbox\" checked><label for=\"sk-estimator-id-1\" class=\"sk-toggleable__label sk-toggleable__label-arrow\">SVC</label><div class=\"sk-toggleable__content\"><pre>SVC(kernel=&#x27;linear&#x27;)</pre></div></div></div></div></div>"
      ],
      "text/plain": [
       "SVC(kernel='linear')"
      ]
     },
     "execution_count": 32,
     "metadata": {},
     "output_type": "execute_result"
    }
   ],
   "source": [
    "svc"
   ]
  },
  {
   "cell_type": "code",
   "execution_count": 33,
   "id": "fdef96bc-85d1-407d-aea2-1b7ecb5dae3d",
   "metadata": {},
   "outputs": [
    {
     "data": {
      "text/html": [
       "<style>#sk-container-id-2 {color: black;background-color: white;}#sk-container-id-2 pre{padding: 0;}#sk-container-id-2 div.sk-toggleable {background-color: white;}#sk-container-id-2 label.sk-toggleable__label {cursor: pointer;display: block;width: 100%;margin-bottom: 0;padding: 0.3em;box-sizing: border-box;text-align: center;}#sk-container-id-2 label.sk-toggleable__label-arrow:before {content: \"▸\";float: left;margin-right: 0.25em;color: #696969;}#sk-container-id-2 label.sk-toggleable__label-arrow:hover:before {color: black;}#sk-container-id-2 div.sk-estimator:hover label.sk-toggleable__label-arrow:before {color: black;}#sk-container-id-2 div.sk-toggleable__content {max-height: 0;max-width: 0;overflow: hidden;text-align: left;background-color: #f0f8ff;}#sk-container-id-2 div.sk-toggleable__content pre {margin: 0.2em;color: black;border-radius: 0.25em;background-color: #f0f8ff;}#sk-container-id-2 input.sk-toggleable__control:checked~div.sk-toggleable__content {max-height: 200px;max-width: 100%;overflow: auto;}#sk-container-id-2 input.sk-toggleable__control:checked~label.sk-toggleable__label-arrow:before {content: \"▾\";}#sk-container-id-2 div.sk-estimator input.sk-toggleable__control:checked~label.sk-toggleable__label {background-color: #d4ebff;}#sk-container-id-2 div.sk-label input.sk-toggleable__control:checked~label.sk-toggleable__label {background-color: #d4ebff;}#sk-container-id-2 input.sk-hidden--visually {border: 0;clip: rect(1px 1px 1px 1px);clip: rect(1px, 1px, 1px, 1px);height: 1px;margin: -1px;overflow: hidden;padding: 0;position: absolute;width: 1px;}#sk-container-id-2 div.sk-estimator {font-family: monospace;background-color: #f0f8ff;border: 1px dotted black;border-radius: 0.25em;box-sizing: border-box;margin-bottom: 0.5em;}#sk-container-id-2 div.sk-estimator:hover {background-color: #d4ebff;}#sk-container-id-2 div.sk-parallel-item::after {content: \"\";width: 100%;border-bottom: 1px solid gray;flex-grow: 1;}#sk-container-id-2 div.sk-label:hover label.sk-toggleable__label {background-color: #d4ebff;}#sk-container-id-2 div.sk-serial::before {content: \"\";position: absolute;border-left: 1px solid gray;box-sizing: border-box;top: 0;bottom: 0;left: 50%;z-index: 0;}#sk-container-id-2 div.sk-serial {display: flex;flex-direction: column;align-items: center;background-color: white;padding-right: 0.2em;padding-left: 0.2em;position: relative;}#sk-container-id-2 div.sk-item {position: relative;z-index: 1;}#sk-container-id-2 div.sk-parallel {display: flex;align-items: stretch;justify-content: center;background-color: white;position: relative;}#sk-container-id-2 div.sk-item::before, #sk-container-id-2 div.sk-parallel-item::before {content: \"\";position: absolute;border-left: 1px solid gray;box-sizing: border-box;top: 0;bottom: 0;left: 50%;z-index: -1;}#sk-container-id-2 div.sk-parallel-item {display: flex;flex-direction: column;z-index: 1;position: relative;background-color: white;}#sk-container-id-2 div.sk-parallel-item:first-child::after {align-self: flex-end;width: 50%;}#sk-container-id-2 div.sk-parallel-item:last-child::after {align-self: flex-start;width: 50%;}#sk-container-id-2 div.sk-parallel-item:only-child::after {width: 0;}#sk-container-id-2 div.sk-dashed-wrapped {border: 1px dashed gray;margin: 0 0.4em 0.5em 0.4em;box-sizing: border-box;padding-bottom: 0.4em;background-color: white;}#sk-container-id-2 div.sk-label label {font-family: monospace;font-weight: bold;display: inline-block;line-height: 1.2em;}#sk-container-id-2 div.sk-label-container {text-align: center;}#sk-container-id-2 div.sk-container {/* jupyter's `normalize.less` sets `[hidden] { display: none; }` but bootstrap.min.css set `[hidden] { display: none !important; }` so we also need the `!important` here to be able to override the default hidden behavior on the sphinx rendered scikit-learn.org. See: https://github.com/scikit-learn/scikit-learn/issues/21755 */display: inline-block !important;position: relative;}#sk-container-id-2 div.sk-text-repr-fallback {display: none;}</style><div id=\"sk-container-id-2\" class=\"sk-top-container\"><div class=\"sk-text-repr-fallback\"><pre>SVC(kernel=&#x27;linear&#x27;)</pre><b>In a Jupyter environment, please rerun this cell to show the HTML representation or trust the notebook. <br />On GitHub, the HTML representation is unable to render, please try loading this page with nbviewer.org.</b></div><div class=\"sk-container\" hidden><div class=\"sk-item\"><div class=\"sk-estimator sk-toggleable\"><input class=\"sk-toggleable__control sk-hidden--visually\" id=\"sk-estimator-id-2\" type=\"checkbox\" checked><label for=\"sk-estimator-id-2\" class=\"sk-toggleable__label sk-toggleable__label-arrow\">SVC</label><div class=\"sk-toggleable__content\"><pre>SVC(kernel=&#x27;linear&#x27;)</pre></div></div></div></div></div>"
      ],
      "text/plain": [
       "SVC(kernel='linear')"
      ]
     },
     "execution_count": 33,
     "metadata": {},
     "output_type": "execute_result"
    }
   ],
   "source": [
    "svc.fit(X_train,y_train)"
   ]
  },
  {
   "cell_type": "code",
   "execution_count": 34,
   "id": "2ddd8cfc-046c-4b3c-8e96-b68f76bb60ea",
   "metadata": {},
   "outputs": [],
   "source": [
    "y_pred = svc.predict(X_test)"
   ]
  },
  {
   "cell_type": "code",
   "execution_count": 35,
   "id": "50c4e3d3-37e8-4eca-a92a-bada1d5b6a5e",
   "metadata": {},
   "outputs": [
    {
     "data": {
      "text/plain": [
       "array([200., 200., 200., 200., 200., 200., 200., 200., 200., 200., 200.,\n",
       "       200., 200., 200., 200., 200., 200., 200., 200., 200., 200., 200.,\n",
       "       200., 200., 200., 200., 200., 200., 200., 200., 200., 200., 200.,\n",
       "       200., 200., 200., 200., 200., 200., 200., 200., 200., 200., 200.,\n",
       "       200., 200., 200., 200., 200., 200., 200., 200., 200., 200., 200.,\n",
       "       200., 200., 200., 200., 200., 200., 200., 200., 200., 200., 200.,\n",
       "       200., 200., 200., 200., 200., 200., 200., 200., 200., 200., 200.,\n",
       "       200., 200., 200., 200., 200., 200., 200., 200., 200., 200., 200.,\n",
       "       200., 200., 200., 200., 200., 200., 200., 200., 200., 200., 200.,\n",
       "       200., 200., 200., 200., 200., 200., 200., 200., 200., 200., 200.,\n",
       "       200., 200., 200., 200., 200., 200., 200., 200., 200., 200., 200.,\n",
       "       200., 200., 200., 200., 200., 200., 200., 200., 200., 200., 200.,\n",
       "       200., 200., 200., 200., 200., 200., 200., 200., 200., 200., 200.,\n",
       "       200., 200., 200.])"
      ]
     },
     "execution_count": 35,
     "metadata": {},
     "output_type": "execute_result"
    }
   ],
   "source": [
    "y_pred"
   ]
  },
  {
   "cell_type": "code",
   "execution_count": 38,
   "id": "2a4075da-d7b9-47cc-98f7-ba3a6a45d473",
   "metadata": {},
   "outputs": [],
   "source": [
    "import warnings\n",
    "warnings.filterwarnings(\"ignore\")"
   ]
  },
  {
   "cell_type": "code",
   "execution_count": 36,
   "id": "8bc157a0-2847-47ac-847e-dc0ba4f33ce3",
   "metadata": {},
   "outputs": [],
   "source": [
    "from sklearn.metrics import classification_report,accuracy_score,confusion_matrix"
   ]
  },
  {
   "cell_type": "code",
   "execution_count": 39,
   "id": "955cddf4-18c7-4df7-a1cf-39ac3b2092b1",
   "metadata": {},
   "outputs": [
    {
     "name": "stdout",
     "output_type": "stream",
     "text": [
      "              precision    recall  f1-score   support\n",
      "\n",
      "        37.0       0.00      0.00      0.00         0\n",
      "        42.0       0.00      0.00      0.00         0\n",
      "        48.0       0.00      0.00      0.00         0\n",
      "        51.0       0.00      0.00      0.00         0\n",
      "        52.0       0.00      0.00      0.00         0\n",
      "        53.0       0.00      0.00      0.00         0\n",
      "        59.0       0.00      0.00      0.00         0\n",
      "        60.0       0.00      0.00      0.00         0\n",
      "        61.0       0.00      0.00      0.00         0\n",
      "        63.0       0.00      0.00      0.00         0\n",
      "        64.0       0.00      0.00      0.00         0\n",
      "        65.0       0.00      0.00      0.00         0\n",
      "        67.0       0.00      0.00      0.00         0\n",
      "        68.0       0.00      0.00      0.00         0\n",
      "        69.0       0.00      0.00      0.00         0\n",
      "        70.0       0.00      0.00      0.00         0\n",
      "        71.0       0.00      0.00      0.00         0\n",
      "        72.0       0.00      0.00      0.00         0\n",
      "        77.0       0.00      0.00      0.00         0\n",
      "        84.0       0.00      0.00      0.00         0\n",
      "        87.0       0.00      0.00      0.00         0\n",
      "        88.0       0.00      0.00      0.00         0\n",
      "        89.0       0.00      0.00      0.00         0\n",
      "        90.0       0.00      0.00      0.00         0\n",
      "        91.0       0.00      0.00      0.00         0\n",
      "        93.0       0.00      0.00      0.00         0\n",
      "        94.0       0.00      0.00      0.00         0\n",
      "        95.0       0.00      0.00      0.00         0\n",
      "        96.0       0.00      0.00      0.00         0\n",
      "        97.0       0.00      0.00      0.00         0\n",
      "        98.0       0.00      0.00      0.00         0\n",
      "        99.0       0.00      0.00      0.00         0\n",
      "       101.0       0.00      0.00      0.00         0\n",
      "       102.0       0.00      0.00      0.00         0\n",
      "       104.0       0.00      0.00      0.00         0\n",
      "       107.0       0.00      0.00      0.00         0\n",
      "       108.0       0.00      0.00      0.00         0\n",
      "       110.0       0.00      0.00      0.00         0\n",
      "       111.0       0.00      0.00      0.00         0\n",
      "       113.0       0.00      0.00      0.00         0\n",
      "       118.0       0.00      0.00      0.00         0\n",
      "       121.0       0.00      0.00      0.00         0\n",
      "       122.0       0.00      0.00      0.00         0\n",
      "       125.0       0.00      0.00      0.00         0\n",
      "       128.0       0.00      0.00      0.00         0\n",
      "       129.0       0.00      0.00      0.00         0\n",
      "       132.0       0.00      0.00      0.00         0\n",
      "       135.0       0.00      0.00      0.00         0\n",
      "       136.0       0.00      0.00      0.00         0\n",
      "       137.0       0.00      0.00      0.00         0\n",
      "       139.0       0.00      0.00      0.00         0\n",
      "       140.0       0.00      0.00      0.00         0\n",
      "       144.0       0.00      0.00      0.00         0\n",
      "       150.0       0.00      0.00      0.00         0\n",
      "       151.0       0.00      0.00      0.00         0\n",
      "       153.0       0.00      0.00      0.00         0\n",
      "       156.0       0.00      0.00      0.00         0\n",
      "       158.0       0.00      0.00      0.00         0\n",
      "       164.0       0.00      0.00      0.00         0\n",
      "       166.0       0.00      0.00      0.00         0\n",
      "       167.0       0.00      0.00      0.00         0\n",
      "       168.0       0.00      0.00      0.00         0\n",
      "       170.0       0.00      0.00      0.00         0\n",
      "       171.0       0.00      0.00      0.00         0\n",
      "       172.0       0.00      0.00      0.00         0\n",
      "       173.0       0.00      0.00      0.00         0\n",
      "       174.0       0.00      0.00      0.00         0\n",
      "       178.0       0.00      0.00      0.00         0\n",
      "       179.0       0.00      0.00      0.00         0\n",
      "       180.0       0.00      0.00      0.00         0\n",
      "       181.0       0.00      0.00      0.00         0\n",
      "       184.0       0.00      0.00      0.00         0\n",
      "       186.0       0.00      0.00      0.00         0\n",
      "       187.0       0.00      0.00      0.00         0\n",
      "       189.0       0.00      0.00      0.00         0\n",
      "       190.0       0.00      0.00      0.00         0\n",
      "       197.0       0.00      0.00      0.00         0\n",
      "       200.0       1.00      0.01      0.01       146\n",
      "       202.0       0.00      0.00      0.00         0\n",
      "       206.0       0.00      0.00      0.00         0\n",
      "       208.0       0.00      0.00      0.00         0\n",
      "       214.0       0.00      0.00      0.00         0\n",
      "       219.0       0.00      0.00      0.00         0\n",
      "       220.0       0.00      0.00      0.00         0\n",
      "       222.0       0.00      0.00      0.00         0\n",
      "       230.0       0.00      0.00      0.00         0\n",
      "       232.0       0.00      0.00      0.00         0\n",
      "       233.0       0.00      0.00      0.00         0\n",
      "       237.0       0.00      0.00      0.00         0\n",
      "       242.0       0.00      0.00      0.00         0\n",
      "       248.0       0.00      0.00      0.00         0\n",
      "       249.0       0.00      0.00      0.00         0\n",
      "       252.0       0.00      0.00      0.00         0\n",
      "       257.0       0.00      0.00      0.00         0\n",
      "       258.0       0.00      0.00      0.00         0\n",
      "       261.0       0.00      0.00      0.00         0\n",
      "       262.0       0.00      0.00      0.00         0\n",
      "       263.0       0.00      0.00      0.00         0\n",
      "       264.0       0.00      0.00      0.00         0\n",
      "       265.0       0.00      0.00      0.00         0\n",
      "       268.0       0.00      0.00      0.00         0\n",
      "       270.0       0.00      0.00      0.00         0\n",
      "       272.0       0.00      0.00      0.00         0\n",
      "       275.0       0.00      0.00      0.00         0\n",
      "       277.0       0.00      0.00      0.00         0\n",
      "       280.0       0.00      0.00      0.00         0\n",
      "       281.0       0.00      0.00      0.00         0\n",
      "       283.0       0.00      0.00      0.00         0\n",
      "       295.0       0.00      0.00      0.00         0\n",
      "       297.0       0.00      0.00      0.00         0\n",
      "       310.0       0.00      0.00      0.00         0\n",
      "       317.0       0.00      0.00      0.00         0\n",
      "\n",
      "    accuracy                           0.01       146\n",
      "   macro avg       0.01      0.00      0.00       146\n",
      "weighted avg       1.00      0.01      0.01       146\n",
      "\n",
      "0.00684931506849315\n",
      "[[0 0 0 ... 0 0 0]\n",
      " [0 0 0 ... 0 0 0]\n",
      " [0 0 0 ... 0 0 0]\n",
      " ...\n",
      " [0 0 0 ... 0 0 0]\n",
      " [0 0 0 ... 0 0 0]\n",
      " [0 0 0 ... 0 0 0]]\n"
     ]
    }
   ],
   "source": [
    "print(classification_report(y_pred,y_test))\n",
    "print(accuracy_score(y_pred,y_test))\n",
    "print(confusion_matrix(y_pred,y_test))"
   ]
  },
  {
   "cell_type": "code",
   "execution_count": 40,
   "id": "ce3deb0c-0e31-4fc8-a669-c598a1785eb6",
   "metadata": {},
   "outputs": [],
   "source": [
    "from sklearn.model_selection import GridSearchCV"
   ]
  },
  {
   "cell_type": "code",
   "execution_count": 44,
   "id": "f35d3b52-724a-48c4-9cc9-fa5e81c7229d",
   "metadata": {},
   "outputs": [],
   "source": [
    "parameter={'C' : [0.1,0.2,0.3,0.4,0.5],'kernel': [\"poly\"],'gamma':[0.1,1,0.001]\n",
    "}"
   ]
  },
  {
   "cell_type": "code",
   "execution_count": 45,
   "id": "293d17ea-39ed-4b95-b280-55698c265db1",
   "metadata": {},
   "outputs": [],
   "source": [
    "grid= GridSearchCV(svc,param_grid=parameter,refit=True,verbose=3,cv=5)"
   ]
  },
  {
   "cell_type": "code",
   "execution_count": 46,
   "id": "fce2719e-db61-4168-b2f7-ea9867e0f6bc",
   "metadata": {},
   "outputs": [
    {
     "data": {
      "text/html": [
       "<style>#sk-container-id-3 {color: black;background-color: white;}#sk-container-id-3 pre{padding: 0;}#sk-container-id-3 div.sk-toggleable {background-color: white;}#sk-container-id-3 label.sk-toggleable__label {cursor: pointer;display: block;width: 100%;margin-bottom: 0;padding: 0.3em;box-sizing: border-box;text-align: center;}#sk-container-id-3 label.sk-toggleable__label-arrow:before {content: \"▸\";float: left;margin-right: 0.25em;color: #696969;}#sk-container-id-3 label.sk-toggleable__label-arrow:hover:before {color: black;}#sk-container-id-3 div.sk-estimator:hover label.sk-toggleable__label-arrow:before {color: black;}#sk-container-id-3 div.sk-toggleable__content {max-height: 0;max-width: 0;overflow: hidden;text-align: left;background-color: #f0f8ff;}#sk-container-id-3 div.sk-toggleable__content pre {margin: 0.2em;color: black;border-radius: 0.25em;background-color: #f0f8ff;}#sk-container-id-3 input.sk-toggleable__control:checked~div.sk-toggleable__content {max-height: 200px;max-width: 100%;overflow: auto;}#sk-container-id-3 input.sk-toggleable__control:checked~label.sk-toggleable__label-arrow:before {content: \"▾\";}#sk-container-id-3 div.sk-estimator input.sk-toggleable__control:checked~label.sk-toggleable__label {background-color: #d4ebff;}#sk-container-id-3 div.sk-label input.sk-toggleable__control:checked~label.sk-toggleable__label {background-color: #d4ebff;}#sk-container-id-3 input.sk-hidden--visually {border: 0;clip: rect(1px 1px 1px 1px);clip: rect(1px, 1px, 1px, 1px);height: 1px;margin: -1px;overflow: hidden;padding: 0;position: absolute;width: 1px;}#sk-container-id-3 div.sk-estimator {font-family: monospace;background-color: #f0f8ff;border: 1px dotted black;border-radius: 0.25em;box-sizing: border-box;margin-bottom: 0.5em;}#sk-container-id-3 div.sk-estimator:hover {background-color: #d4ebff;}#sk-container-id-3 div.sk-parallel-item::after {content: \"\";width: 100%;border-bottom: 1px solid gray;flex-grow: 1;}#sk-container-id-3 div.sk-label:hover label.sk-toggleable__label {background-color: #d4ebff;}#sk-container-id-3 div.sk-serial::before {content: \"\";position: absolute;border-left: 1px solid gray;box-sizing: border-box;top: 0;bottom: 0;left: 50%;z-index: 0;}#sk-container-id-3 div.sk-serial {display: flex;flex-direction: column;align-items: center;background-color: white;padding-right: 0.2em;padding-left: 0.2em;position: relative;}#sk-container-id-3 div.sk-item {position: relative;z-index: 1;}#sk-container-id-3 div.sk-parallel {display: flex;align-items: stretch;justify-content: center;background-color: white;position: relative;}#sk-container-id-3 div.sk-item::before, #sk-container-id-3 div.sk-parallel-item::before {content: \"\";position: absolute;border-left: 1px solid gray;box-sizing: border-box;top: 0;bottom: 0;left: 50%;z-index: -1;}#sk-container-id-3 div.sk-parallel-item {display: flex;flex-direction: column;z-index: 1;position: relative;background-color: white;}#sk-container-id-3 div.sk-parallel-item:first-child::after {align-self: flex-end;width: 50%;}#sk-container-id-3 div.sk-parallel-item:last-child::after {align-self: flex-start;width: 50%;}#sk-container-id-3 div.sk-parallel-item:only-child::after {width: 0;}#sk-container-id-3 div.sk-dashed-wrapped {border: 1px dashed gray;margin: 0 0.4em 0.5em 0.4em;box-sizing: border-box;padding-bottom: 0.4em;background-color: white;}#sk-container-id-3 div.sk-label label {font-family: monospace;font-weight: bold;display: inline-block;line-height: 1.2em;}#sk-container-id-3 div.sk-label-container {text-align: center;}#sk-container-id-3 div.sk-container {/* jupyter's `normalize.less` sets `[hidden] { display: none; }` but bootstrap.min.css set `[hidden] { display: none !important; }` so we also need the `!important` here to be able to override the default hidden behavior on the sphinx rendered scikit-learn.org. See: https://github.com/scikit-learn/scikit-learn/issues/21755 */display: inline-block !important;position: relative;}#sk-container-id-3 div.sk-text-repr-fallback {display: none;}</style><div id=\"sk-container-id-3\" class=\"sk-top-container\"><div class=\"sk-text-repr-fallback\"><pre>GridSearchCV(cv=5, estimator=SVC(kernel=&#x27;linear&#x27;),\n",
       "             param_grid={&#x27;C&#x27;: [0.1, 0.2, 0.3, 0.4, 0.5],\n",
       "                         &#x27;gamma&#x27;: [0.1, 1, 0.001], &#x27;kernel&#x27;: [&#x27;poly&#x27;]},\n",
       "             verbose=3)</pre><b>In a Jupyter environment, please rerun this cell to show the HTML representation or trust the notebook. <br />On GitHub, the HTML representation is unable to render, please try loading this page with nbviewer.org.</b></div><div class=\"sk-container\" hidden><div class=\"sk-item sk-dashed-wrapped\"><div class=\"sk-label-container\"><div class=\"sk-label sk-toggleable\"><input class=\"sk-toggleable__control sk-hidden--visually\" id=\"sk-estimator-id-3\" type=\"checkbox\" ><label for=\"sk-estimator-id-3\" class=\"sk-toggleable__label sk-toggleable__label-arrow\">GridSearchCV</label><div class=\"sk-toggleable__content\"><pre>GridSearchCV(cv=5, estimator=SVC(kernel=&#x27;linear&#x27;),\n",
       "             param_grid={&#x27;C&#x27;: [0.1, 0.2, 0.3, 0.4, 0.5],\n",
       "                         &#x27;gamma&#x27;: [0.1, 1, 0.001], &#x27;kernel&#x27;: [&#x27;poly&#x27;]},\n",
       "             verbose=3)</pre></div></div></div><div class=\"sk-parallel\"><div class=\"sk-parallel-item\"><div class=\"sk-item\"><div class=\"sk-label-container\"><div class=\"sk-label sk-toggleable\"><input class=\"sk-toggleable__control sk-hidden--visually\" id=\"sk-estimator-id-4\" type=\"checkbox\" ><label for=\"sk-estimator-id-4\" class=\"sk-toggleable__label sk-toggleable__label-arrow\">estimator: SVC</label><div class=\"sk-toggleable__content\"><pre>SVC(kernel=&#x27;linear&#x27;)</pre></div></div></div><div class=\"sk-serial\"><div class=\"sk-item\"><div class=\"sk-estimator sk-toggleable\"><input class=\"sk-toggleable__control sk-hidden--visually\" id=\"sk-estimator-id-5\" type=\"checkbox\" ><label for=\"sk-estimator-id-5\" class=\"sk-toggleable__label sk-toggleable__label-arrow\">SVC</label><div class=\"sk-toggleable__content\"><pre>SVC(kernel=&#x27;linear&#x27;)</pre></div></div></div></div></div></div></div></div></div></div>"
      ],
      "text/plain": [
       "GridSearchCV(cv=5, estimator=SVC(kernel='linear'),\n",
       "             param_grid={'C': [0.1, 0.2, 0.3, 0.4, 0.5],\n",
       "                         'gamma': [0.1, 1, 0.001], 'kernel': ['poly']},\n",
       "             verbose=3)"
      ]
     },
     "execution_count": 46,
     "metadata": {},
     "output_type": "execute_result"
    }
   ],
   "source": [
    "grid"
   ]
  },
  {
   "cell_type": "code",
   "execution_count": 47,
   "id": "425e9e5d-1361-4526-946e-a9516224212d",
   "metadata": {},
   "outputs": [
    {
     "name": "stdout",
     "output_type": "stream",
     "text": [
      "Fitting 5 folds for each of 15 candidates, totalling 75 fits\n",
      "[CV 1/5] END .....C=0.1, gamma=0.1, kernel=poly;, score=0.017 total time=   0.1s\n",
      "[CV 2/5] END .....C=0.1, gamma=0.1, kernel=poly;, score=0.017 total time=   0.1s\n",
      "[CV 3/5] END .....C=0.1, gamma=0.1, kernel=poly;, score=0.000 total time=   0.1s\n",
      "[CV 4/5] END .....C=0.1, gamma=0.1, kernel=poly;, score=0.017 total time=   0.1s\n",
      "[CV 5/5] END .....C=0.1, gamma=0.1, kernel=poly;, score=0.017 total time=   0.1s\n",
      "[CV 1/5] END .......C=0.1, gamma=1, kernel=poly;, score=0.017 total time=   0.1s\n",
      "[CV 2/5] END .......C=0.1, gamma=1, kernel=poly;, score=0.017 total time=   0.1s\n",
      "[CV 3/5] END .......C=0.1, gamma=1, kernel=poly;, score=0.000 total time=   0.1s\n",
      "[CV 4/5] END .......C=0.1, gamma=1, kernel=poly;, score=0.017 total time=   0.1s\n",
      "[CV 5/5] END .......C=0.1, gamma=1, kernel=poly;, score=0.017 total time=   0.1s\n",
      "[CV 1/5] END ...C=0.1, gamma=0.001, kernel=poly;, score=0.017 total time=   0.1s\n",
      "[CV 2/5] END ...C=0.1, gamma=0.001, kernel=poly;, score=0.017 total time=   0.1s\n",
      "[CV 3/5] END ...C=0.1, gamma=0.001, kernel=poly;, score=0.000 total time=   0.1s\n",
      "[CV 4/5] END ...C=0.1, gamma=0.001, kernel=poly;, score=0.017 total time=   0.1s\n",
      "[CV 5/5] END ...C=0.1, gamma=0.001, kernel=poly;, score=0.017 total time=   0.1s\n",
      "[CV 1/5] END .....C=0.2, gamma=0.1, kernel=poly;, score=0.017 total time=   0.1s\n",
      "[CV 2/5] END .....C=0.2, gamma=0.1, kernel=poly;, score=0.017 total time=   0.1s\n",
      "[CV 3/5] END .....C=0.2, gamma=0.1, kernel=poly;, score=0.000 total time=   0.1s\n",
      "[CV 4/5] END .....C=0.2, gamma=0.1, kernel=poly;, score=0.017 total time=   0.1s\n",
      "[CV 5/5] END .....C=0.2, gamma=0.1, kernel=poly;, score=0.017 total time=   0.1s\n",
      "[CV 1/5] END .......C=0.2, gamma=1, kernel=poly;, score=0.017 total time=   0.1s\n",
      "[CV 2/5] END .......C=0.2, gamma=1, kernel=poly;, score=0.017 total time=   0.1s\n",
      "[CV 3/5] END .......C=0.2, gamma=1, kernel=poly;, score=0.000 total time=   0.1s\n",
      "[CV 4/5] END .......C=0.2, gamma=1, kernel=poly;, score=0.017 total time=   0.1s\n",
      "[CV 5/5] END .......C=0.2, gamma=1, kernel=poly;, score=0.017 total time=   0.1s\n",
      "[CV 1/5] END ...C=0.2, gamma=0.001, kernel=poly;, score=0.017 total time=   0.1s\n",
      "[CV 2/5] END ...C=0.2, gamma=0.001, kernel=poly;, score=0.017 total time=   0.1s\n",
      "[CV 3/5] END ...C=0.2, gamma=0.001, kernel=poly;, score=0.000 total time=   0.1s\n",
      "[CV 4/5] END ...C=0.2, gamma=0.001, kernel=poly;, score=0.017 total time=   0.1s\n",
      "[CV 5/5] END ...C=0.2, gamma=0.001, kernel=poly;, score=0.017 total time=   0.1s\n",
      "[CV 1/5] END .....C=0.3, gamma=0.1, kernel=poly;, score=0.017 total time=   0.1s\n",
      "[CV 2/5] END .....C=0.3, gamma=0.1, kernel=poly;, score=0.017 total time=   0.1s\n",
      "[CV 3/5] END .....C=0.3, gamma=0.1, kernel=poly;, score=0.000 total time=   0.1s\n",
      "[CV 4/5] END .....C=0.3, gamma=0.1, kernel=poly;, score=0.017 total time=   0.1s\n",
      "[CV 5/5] END .....C=0.3, gamma=0.1, kernel=poly;, score=0.017 total time=   0.1s\n",
      "[CV 1/5] END .......C=0.3, gamma=1, kernel=poly;, score=0.017 total time=   0.1s\n",
      "[CV 2/5] END .......C=0.3, gamma=1, kernel=poly;, score=0.017 total time=   0.1s\n",
      "[CV 3/5] END .......C=0.3, gamma=1, kernel=poly;, score=0.000 total time=   0.1s\n",
      "[CV 4/5] END .......C=0.3, gamma=1, kernel=poly;, score=0.017 total time=   0.1s\n",
      "[CV 5/5] END .......C=0.3, gamma=1, kernel=poly;, score=0.017 total time=   0.1s\n",
      "[CV 1/5] END ...C=0.3, gamma=0.001, kernel=poly;, score=0.017 total time=   0.1s\n",
      "[CV 2/5] END ...C=0.3, gamma=0.001, kernel=poly;, score=0.017 total time=   0.1s\n",
      "[CV 3/5] END ...C=0.3, gamma=0.001, kernel=poly;, score=0.000 total time=   0.1s\n",
      "[CV 4/5] END ...C=0.3, gamma=0.001, kernel=poly;, score=0.017 total time=   0.1s\n",
      "[CV 5/5] END ...C=0.3, gamma=0.001, kernel=poly;, score=0.017 total time=   0.1s\n",
      "[CV 1/5] END .....C=0.4, gamma=0.1, kernel=poly;, score=0.017 total time=   0.1s\n",
      "[CV 2/5] END .....C=0.4, gamma=0.1, kernel=poly;, score=0.017 total time=   0.1s\n",
      "[CV 3/5] END .....C=0.4, gamma=0.1, kernel=poly;, score=0.000 total time=   0.1s\n",
      "[CV 4/5] END .....C=0.4, gamma=0.1, kernel=poly;, score=0.017 total time=   0.1s\n",
      "[CV 5/5] END .....C=0.4, gamma=0.1, kernel=poly;, score=0.017 total time=   0.1s\n",
      "[CV 1/5] END .......C=0.4, gamma=1, kernel=poly;, score=0.017 total time=   0.1s\n",
      "[CV 2/5] END .......C=0.4, gamma=1, kernel=poly;, score=0.017 total time=   0.1s\n",
      "[CV 3/5] END .......C=0.4, gamma=1, kernel=poly;, score=0.000 total time=   0.1s\n",
      "[CV 4/5] END .......C=0.4, gamma=1, kernel=poly;, score=0.017 total time=   0.1s\n",
      "[CV 5/5] END .......C=0.4, gamma=1, kernel=poly;, score=0.017 total time=   0.1s\n",
      "[CV 1/5] END ...C=0.4, gamma=0.001, kernel=poly;, score=0.017 total time=   0.1s\n",
      "[CV 2/5] END ...C=0.4, gamma=0.001, kernel=poly;, score=0.017 total time=   0.1s\n",
      "[CV 3/5] END ...C=0.4, gamma=0.001, kernel=poly;, score=0.000 total time=   0.1s\n",
      "[CV 4/5] END ...C=0.4, gamma=0.001, kernel=poly;, score=0.017 total time=   0.1s\n",
      "[CV 5/5] END ...C=0.4, gamma=0.001, kernel=poly;, score=0.017 total time=   0.1s\n",
      "[CV 1/5] END .....C=0.5, gamma=0.1, kernel=poly;, score=0.017 total time=   0.1s\n",
      "[CV 2/5] END .....C=0.5, gamma=0.1, kernel=poly;, score=0.017 total time=   0.1s\n",
      "[CV 3/5] END .....C=0.5, gamma=0.1, kernel=poly;, score=0.000 total time=   0.1s\n",
      "[CV 4/5] END .....C=0.5, gamma=0.1, kernel=poly;, score=0.017 total time=   0.1s\n",
      "[CV 5/5] END .....C=0.5, gamma=0.1, kernel=poly;, score=0.017 total time=   0.1s\n",
      "[CV 1/5] END .......C=0.5, gamma=1, kernel=poly;, score=0.017 total time=   0.1s\n",
      "[CV 2/5] END .......C=0.5, gamma=1, kernel=poly;, score=0.017 total time=   0.1s\n",
      "[CV 3/5] END .......C=0.5, gamma=1, kernel=poly;, score=0.000 total time=   0.1s\n",
      "[CV 4/5] END .......C=0.5, gamma=1, kernel=poly;, score=0.017 total time=   0.1s\n",
      "[CV 5/5] END .......C=0.5, gamma=1, kernel=poly;, score=0.017 total time=   0.1s\n",
      "[CV 1/5] END ...C=0.5, gamma=0.001, kernel=poly;, score=0.017 total time=   0.1s\n",
      "[CV 2/5] END ...C=0.5, gamma=0.001, kernel=poly;, score=0.017 total time=   0.1s\n",
      "[CV 3/5] END ...C=0.5, gamma=0.001, kernel=poly;, score=0.000 total time=   0.1s\n",
      "[CV 4/5] END ...C=0.5, gamma=0.001, kernel=poly;, score=0.017 total time=   0.1s\n",
      "[CV 5/5] END ...C=0.5, gamma=0.001, kernel=poly;, score=0.017 total time=   0.1s\n"
     ]
    },
    {
     "data": {
      "text/html": [
       "<style>#sk-container-id-4 {color: black;background-color: white;}#sk-container-id-4 pre{padding: 0;}#sk-container-id-4 div.sk-toggleable {background-color: white;}#sk-container-id-4 label.sk-toggleable__label {cursor: pointer;display: block;width: 100%;margin-bottom: 0;padding: 0.3em;box-sizing: border-box;text-align: center;}#sk-container-id-4 label.sk-toggleable__label-arrow:before {content: \"▸\";float: left;margin-right: 0.25em;color: #696969;}#sk-container-id-4 label.sk-toggleable__label-arrow:hover:before {color: black;}#sk-container-id-4 div.sk-estimator:hover label.sk-toggleable__label-arrow:before {color: black;}#sk-container-id-4 div.sk-toggleable__content {max-height: 0;max-width: 0;overflow: hidden;text-align: left;background-color: #f0f8ff;}#sk-container-id-4 div.sk-toggleable__content pre {margin: 0.2em;color: black;border-radius: 0.25em;background-color: #f0f8ff;}#sk-container-id-4 input.sk-toggleable__control:checked~div.sk-toggleable__content {max-height: 200px;max-width: 100%;overflow: auto;}#sk-container-id-4 input.sk-toggleable__control:checked~label.sk-toggleable__label-arrow:before {content: \"▾\";}#sk-container-id-4 div.sk-estimator input.sk-toggleable__control:checked~label.sk-toggleable__label {background-color: #d4ebff;}#sk-container-id-4 div.sk-label input.sk-toggleable__control:checked~label.sk-toggleable__label {background-color: #d4ebff;}#sk-container-id-4 input.sk-hidden--visually {border: 0;clip: rect(1px 1px 1px 1px);clip: rect(1px, 1px, 1px, 1px);height: 1px;margin: -1px;overflow: hidden;padding: 0;position: absolute;width: 1px;}#sk-container-id-4 div.sk-estimator {font-family: monospace;background-color: #f0f8ff;border: 1px dotted black;border-radius: 0.25em;box-sizing: border-box;margin-bottom: 0.5em;}#sk-container-id-4 div.sk-estimator:hover {background-color: #d4ebff;}#sk-container-id-4 div.sk-parallel-item::after {content: \"\";width: 100%;border-bottom: 1px solid gray;flex-grow: 1;}#sk-container-id-4 div.sk-label:hover label.sk-toggleable__label {background-color: #d4ebff;}#sk-container-id-4 div.sk-serial::before {content: \"\";position: absolute;border-left: 1px solid gray;box-sizing: border-box;top: 0;bottom: 0;left: 50%;z-index: 0;}#sk-container-id-4 div.sk-serial {display: flex;flex-direction: column;align-items: center;background-color: white;padding-right: 0.2em;padding-left: 0.2em;position: relative;}#sk-container-id-4 div.sk-item {position: relative;z-index: 1;}#sk-container-id-4 div.sk-parallel {display: flex;align-items: stretch;justify-content: center;background-color: white;position: relative;}#sk-container-id-4 div.sk-item::before, #sk-container-id-4 div.sk-parallel-item::before {content: \"\";position: absolute;border-left: 1px solid gray;box-sizing: border-box;top: 0;bottom: 0;left: 50%;z-index: -1;}#sk-container-id-4 div.sk-parallel-item {display: flex;flex-direction: column;z-index: 1;position: relative;background-color: white;}#sk-container-id-4 div.sk-parallel-item:first-child::after {align-self: flex-end;width: 50%;}#sk-container-id-4 div.sk-parallel-item:last-child::after {align-self: flex-start;width: 50%;}#sk-container-id-4 div.sk-parallel-item:only-child::after {width: 0;}#sk-container-id-4 div.sk-dashed-wrapped {border: 1px dashed gray;margin: 0 0.4em 0.5em 0.4em;box-sizing: border-box;padding-bottom: 0.4em;background-color: white;}#sk-container-id-4 div.sk-label label {font-family: monospace;font-weight: bold;display: inline-block;line-height: 1.2em;}#sk-container-id-4 div.sk-label-container {text-align: center;}#sk-container-id-4 div.sk-container {/* jupyter's `normalize.less` sets `[hidden] { display: none; }` but bootstrap.min.css set `[hidden] { display: none !important; }` so we also need the `!important` here to be able to override the default hidden behavior on the sphinx rendered scikit-learn.org. See: https://github.com/scikit-learn/scikit-learn/issues/21755 */display: inline-block !important;position: relative;}#sk-container-id-4 div.sk-text-repr-fallback {display: none;}</style><div id=\"sk-container-id-4\" class=\"sk-top-container\"><div class=\"sk-text-repr-fallback\"><pre>GridSearchCV(cv=5, estimator=SVC(kernel=&#x27;linear&#x27;),\n",
       "             param_grid={&#x27;C&#x27;: [0.1, 0.2, 0.3, 0.4, 0.5],\n",
       "                         &#x27;gamma&#x27;: [0.1, 1, 0.001], &#x27;kernel&#x27;: [&#x27;poly&#x27;]},\n",
       "             verbose=3)</pre><b>In a Jupyter environment, please rerun this cell to show the HTML representation or trust the notebook. <br />On GitHub, the HTML representation is unable to render, please try loading this page with nbviewer.org.</b></div><div class=\"sk-container\" hidden><div class=\"sk-item sk-dashed-wrapped\"><div class=\"sk-label-container\"><div class=\"sk-label sk-toggleable\"><input class=\"sk-toggleable__control sk-hidden--visually\" id=\"sk-estimator-id-6\" type=\"checkbox\" ><label for=\"sk-estimator-id-6\" class=\"sk-toggleable__label sk-toggleable__label-arrow\">GridSearchCV</label><div class=\"sk-toggleable__content\"><pre>GridSearchCV(cv=5, estimator=SVC(kernel=&#x27;linear&#x27;),\n",
       "             param_grid={&#x27;C&#x27;: [0.1, 0.2, 0.3, 0.4, 0.5],\n",
       "                         &#x27;gamma&#x27;: [0.1, 1, 0.001], &#x27;kernel&#x27;: [&#x27;poly&#x27;]},\n",
       "             verbose=3)</pre></div></div></div><div class=\"sk-parallel\"><div class=\"sk-parallel-item\"><div class=\"sk-item\"><div class=\"sk-label-container\"><div class=\"sk-label sk-toggleable\"><input class=\"sk-toggleable__control sk-hidden--visually\" id=\"sk-estimator-id-7\" type=\"checkbox\" ><label for=\"sk-estimator-id-7\" class=\"sk-toggleable__label sk-toggleable__label-arrow\">estimator: SVC</label><div class=\"sk-toggleable__content\"><pre>SVC(kernel=&#x27;linear&#x27;)</pre></div></div></div><div class=\"sk-serial\"><div class=\"sk-item\"><div class=\"sk-estimator sk-toggleable\"><input class=\"sk-toggleable__control sk-hidden--visually\" id=\"sk-estimator-id-8\" type=\"checkbox\" ><label for=\"sk-estimator-id-8\" class=\"sk-toggleable__label sk-toggleable__label-arrow\">SVC</label><div class=\"sk-toggleable__content\"><pre>SVC(kernel=&#x27;linear&#x27;)</pre></div></div></div></div></div></div></div></div></div></div>"
      ],
      "text/plain": [
       "GridSearchCV(cv=5, estimator=SVC(kernel='linear'),\n",
       "             param_grid={'C': [0.1, 0.2, 0.3, 0.4, 0.5],\n",
       "                         'gamma': [0.1, 1, 0.001], 'kernel': ['poly']},\n",
       "             verbose=3)"
      ]
     },
     "execution_count": 47,
     "metadata": {},
     "output_type": "execute_result"
    }
   ],
   "source": [
    "grid.fit(X_train,y_train)"
   ]
  },
  {
   "cell_type": "code",
   "execution_count": 48,
   "id": "bb9eb3be-fd67-4094-a333-32a05240d223",
   "metadata": {},
   "outputs": [
    {
     "data": {
      "text/plain": [
       "array([200., 200., 200., 200., 200., 200., 200., 200., 200., 200., 200.,\n",
       "       200., 200., 200., 200., 200., 200., 200., 200., 200., 200., 200.,\n",
       "       200., 200., 200., 200., 200., 200., 200., 200., 200., 200., 200.,\n",
       "       200., 200., 200., 200., 200., 200., 200., 200., 200., 200., 200.,\n",
       "       200., 200., 200., 200., 200., 200., 200., 200., 200., 200., 200.,\n",
       "       200., 200., 200., 200., 200., 200., 200., 200., 200., 200., 200.,\n",
       "       200., 200., 200., 200., 200., 200., 200., 200., 200., 200., 200.,\n",
       "       200., 200., 200., 200., 200., 200., 200., 200., 200., 200., 200.,\n",
       "       200., 200., 200., 200., 200., 200., 200., 200., 200., 200., 200.,\n",
       "       200., 200., 200., 200., 200., 200., 200., 200., 200., 200., 200.,\n",
       "       200., 200., 200., 200., 200., 200., 200., 200., 200., 200., 200.,\n",
       "       200., 200., 200., 200., 200., 200., 200., 200., 200., 200., 200.,\n",
       "       200., 200., 200., 200., 200., 200., 200., 200., 200., 200., 200.,\n",
       "       200., 200., 200.])"
      ]
     },
     "execution_count": 48,
     "metadata": {},
     "output_type": "execute_result"
    }
   ],
   "source": [
    "y_pred=grid.predict(X_test)\n",
    "y_pred"
   ]
  },
  {
   "cell_type": "code",
   "execution_count": 49,
   "id": "1176b1f1-4d7d-442c-8fba-574682cb7c24",
   "metadata": {},
   "outputs": [
    {
     "data": {
      "text/plain": [
       "{'C': 0.1, 'gamma': 0.1, 'kernel': 'poly'}"
      ]
     },
     "execution_count": 49,
     "metadata": {},
     "output_type": "execute_result"
    }
   ],
   "source": [
    "grid.best_params_"
   ]
  },
  {
   "cell_type": "code",
   "execution_count": 50,
   "id": "c09dbed5-ee0e-415f-892d-3af8d9a4a1e5",
   "metadata": {},
   "outputs": [
    {
     "name": "stdout",
     "output_type": "stream",
     "text": [
      "              precision    recall  f1-score   support\n",
      "\n",
      "        37.0       0.00      0.00      0.00         0\n",
      "        42.0       0.00      0.00      0.00         0\n",
      "        48.0       0.00      0.00      0.00         0\n",
      "        51.0       0.00      0.00      0.00         0\n",
      "        52.0       0.00      0.00      0.00         0\n",
      "        53.0       0.00      0.00      0.00         0\n",
      "        59.0       0.00      0.00      0.00         0\n",
      "        60.0       0.00      0.00      0.00         0\n",
      "        61.0       0.00      0.00      0.00         0\n",
      "        63.0       0.00      0.00      0.00         0\n",
      "        64.0       0.00      0.00      0.00         0\n",
      "        65.0       0.00      0.00      0.00         0\n",
      "        67.0       0.00      0.00      0.00         0\n",
      "        68.0       0.00      0.00      0.00         0\n",
      "        69.0       0.00      0.00      0.00         0\n",
      "        70.0       0.00      0.00      0.00         0\n",
      "        71.0       0.00      0.00      0.00         0\n",
      "        72.0       0.00      0.00      0.00         0\n",
      "        77.0       0.00      0.00      0.00         0\n",
      "        84.0       0.00      0.00      0.00         0\n",
      "        87.0       0.00      0.00      0.00         0\n",
      "        88.0       0.00      0.00      0.00         0\n",
      "        89.0       0.00      0.00      0.00         0\n",
      "        90.0       0.00      0.00      0.00         0\n",
      "        91.0       0.00      0.00      0.00         0\n",
      "        93.0       0.00      0.00      0.00         0\n",
      "        94.0       0.00      0.00      0.00         0\n",
      "        95.0       0.00      0.00      0.00         0\n",
      "        96.0       0.00      0.00      0.00         0\n",
      "        97.0       0.00      0.00      0.00         0\n",
      "        98.0       0.00      0.00      0.00         0\n",
      "        99.0       0.00      0.00      0.00         0\n",
      "       101.0       0.00      0.00      0.00         0\n",
      "       102.0       0.00      0.00      0.00         0\n",
      "       104.0       0.00      0.00      0.00         0\n",
      "       107.0       0.00      0.00      0.00         0\n",
      "       108.0       0.00      0.00      0.00         0\n",
      "       110.0       0.00      0.00      0.00         0\n",
      "       111.0       0.00      0.00      0.00         0\n",
      "       113.0       0.00      0.00      0.00         0\n",
      "       118.0       0.00      0.00      0.00         0\n",
      "       121.0       0.00      0.00      0.00         0\n",
      "       122.0       0.00      0.00      0.00         0\n",
      "       125.0       0.00      0.00      0.00         0\n",
      "       128.0       0.00      0.00      0.00         0\n",
      "       129.0       0.00      0.00      0.00         0\n",
      "       132.0       0.00      0.00      0.00         0\n",
      "       135.0       0.00      0.00      0.00         0\n",
      "       136.0       0.00      0.00      0.00         0\n",
      "       137.0       0.00      0.00      0.00         0\n",
      "       139.0       0.00      0.00      0.00         0\n",
      "       140.0       0.00      0.00      0.00         0\n",
      "       144.0       0.00      0.00      0.00         0\n",
      "       150.0       0.00      0.00      0.00         0\n",
      "       151.0       0.00      0.00      0.00         0\n",
      "       153.0       0.00      0.00      0.00         0\n",
      "       156.0       0.00      0.00      0.00         0\n",
      "       158.0       0.00      0.00      0.00         0\n",
      "       164.0       0.00      0.00      0.00         0\n",
      "       166.0       0.00      0.00      0.00         0\n",
      "       167.0       0.00      0.00      0.00         0\n",
      "       168.0       0.00      0.00      0.00         0\n",
      "       170.0       0.00      0.00      0.00         0\n",
      "       171.0       0.00      0.00      0.00         0\n",
      "       172.0       0.00      0.00      0.00         0\n",
      "       173.0       0.00      0.00      0.00         0\n",
      "       174.0       0.00      0.00      0.00         0\n",
      "       178.0       0.00      0.00      0.00         0\n",
      "       179.0       0.00      0.00      0.00         0\n",
      "       180.0       0.00      0.00      0.00         0\n",
      "       181.0       0.00      0.00      0.00         0\n",
      "       184.0       0.00      0.00      0.00         0\n",
      "       186.0       0.00      0.00      0.00         0\n",
      "       187.0       0.00      0.00      0.00         0\n",
      "       189.0       0.00      0.00      0.00         0\n",
      "       190.0       0.00      0.00      0.00         0\n",
      "       197.0       0.00      0.00      0.00         0\n",
      "       200.0       1.00      0.01      0.01       146\n",
      "       202.0       0.00      0.00      0.00         0\n",
      "       206.0       0.00      0.00      0.00         0\n",
      "       208.0       0.00      0.00      0.00         0\n",
      "       214.0       0.00      0.00      0.00         0\n",
      "       219.0       0.00      0.00      0.00         0\n",
      "       220.0       0.00      0.00      0.00         0\n",
      "       222.0       0.00      0.00      0.00         0\n",
      "       230.0       0.00      0.00      0.00         0\n",
      "       232.0       0.00      0.00      0.00         0\n",
      "       233.0       0.00      0.00      0.00         0\n",
      "       237.0       0.00      0.00      0.00         0\n",
      "       242.0       0.00      0.00      0.00         0\n",
      "       248.0       0.00      0.00      0.00         0\n",
      "       249.0       0.00      0.00      0.00         0\n",
      "       252.0       0.00      0.00      0.00         0\n",
      "       257.0       0.00      0.00      0.00         0\n",
      "       258.0       0.00      0.00      0.00         0\n",
      "       261.0       0.00      0.00      0.00         0\n",
      "       262.0       0.00      0.00      0.00         0\n",
      "       263.0       0.00      0.00      0.00         0\n",
      "       264.0       0.00      0.00      0.00         0\n",
      "       265.0       0.00      0.00      0.00         0\n",
      "       268.0       0.00      0.00      0.00         0\n",
      "       270.0       0.00      0.00      0.00         0\n",
      "       272.0       0.00      0.00      0.00         0\n",
      "       275.0       0.00      0.00      0.00         0\n",
      "       277.0       0.00      0.00      0.00         0\n",
      "       280.0       0.00      0.00      0.00         0\n",
      "       281.0       0.00      0.00      0.00         0\n",
      "       283.0       0.00      0.00      0.00         0\n",
      "       295.0       0.00      0.00      0.00         0\n",
      "       297.0       0.00      0.00      0.00         0\n",
      "       310.0       0.00      0.00      0.00         0\n",
      "       317.0       0.00      0.00      0.00         0\n",
      "\n",
      "    accuracy                           0.01       146\n",
      "   macro avg       0.01      0.00      0.00       146\n",
      "weighted avg       1.00      0.01      0.01       146\n",
      "\n",
      "0.00684931506849315\n",
      "[[0 0 0 ... 0 0 0]\n",
      " [0 0 0 ... 0 0 0]\n",
      " [0 0 0 ... 0 0 0]\n",
      " ...\n",
      " [0 0 0 ... 0 0 0]\n",
      " [0 0 0 ... 0 0 0]\n",
      " [0 0 0 ... 0 0 0]]\n"
     ]
    }
   ],
   "source": [
    "print(classification_report(y_pred,y_test))\n",
    "print(accuracy_score(y_pred,y_test))\n",
    "print(confusion_matrix(y_pred,y_test))"
   ]
  },
  {
   "cell_type": "code",
   "execution_count": 64,
   "id": "dc0ac5ac-1405-41fa-848a-83797de8927f",
   "metadata": {},
   "outputs": [
    {
     "data": {
      "text/plain": [
       "'\\nf = open(\"file.txt\", \"w\")\\nf.write()\\nf.close()\\n\\n#open and read the file after the appending:\\nf = open(\"file.txt\", \"r\")\\nprint(f.read())\\n'"
      ]
     },
     "execution_count": 64,
     "metadata": {},
     "output_type": "execute_result"
    }
   ],
   "source": [
    "\"\"\"\n",
    "f = open(\"file.txt\", \"w\")\n",
    "f.write()\n",
    "f.close()\n",
    "\n",
    "#open and read the file after the appending:\n",
    "f = open(\"file.txt\", \"r\")\n",
    "print(f.read())\n",
    "\"\"\""
   ]
  }
 ],
 "metadata": {
  "kernelspec": {
   "display_name": "Python 3 (ipykernel)",
   "language": "python",
   "name": "python3"
  },
  "language_info": {
   "codemirror_mode": {
    "name": "ipython",
    "version": 3
   },
   "file_extension": ".py",
   "mimetype": "text/x-python",
   "name": "python",
   "nbconvert_exporter": "python",
   "pygments_lexer": "ipython3",
   "version": "3.10.8"
  }
 },
 "nbformat": 4,
 "nbformat_minor": 5
}
